{
  "nbformat": 4,
  "nbformat_minor": 0,
  "metadata": {
    "colab": {
      "name": "App.ipynb",
      "provenance": [],
      "authorship_tag": "ABX9TyNMlEyE7wML2EuZooz0eIQX",
      "include_colab_link": true
    },
    "kernelspec": {
      "name": "python3",
      "display_name": "Python 3"
    }
  },
  "cells": [
    {
      "cell_type": "markdown",
      "metadata": {
        "id": "view-in-github",
        "colab_type": "text"
      },
      "source": [
        "<a href=\"https://colab.research.google.com/github/williamsB77/ASL_Mapping/blob/master/App.ipynb\" target=\"_parent\"><img src=\"https://colab.research.google.com/assets/colab-badge.svg\" alt=\"Open In Colab\"/></a>"
      ]
    },
    {
      "cell_type": "code",
      "metadata": {
        "id": "AvEQ0wEFWxG0",
        "colab_type": "code",
        "colab": {
          "base_uri": "https://localhost:8080/",
          "height": 34
        },
        "outputId": "c5cfe545-3cd4-4833-9f99-ab993535d65b"
      },
      "source": [
        "# Import all needed libraries\n",
        "import cv2 \n",
        "import numpy as np\n"
      ],
      "execution_count": 8,
      "outputs": [
        {
          "output_type": "execute_result",
          "data": {
            "text/plain": [
              "'4.1.2'"
            ]
          },
          "metadata": {
            "tags": []
          },
          "execution_count": 8
        }
      ]
    },
    {
      "cell_type": "code",
      "metadata": {
        "id": "B2zU8XJBdKfp",
        "colab_type": "code",
        "colab": {}
      },
      "source": [
        "from google.colab import drive\n",
        "drive.mount('/mntDrive')"
      ],
      "execution_count": 0,
      "outputs": []
    },
    {
      "cell_type": "markdown",
      "metadata": {
        "id": "xlV5uWyHZby8",
        "colab_type": "text"
      },
      "source": [
        "**Function Method** --> Things to do\n",
        "\n",
        "```\n",
        "- Create a list of already matched ASL to letters for reference\n",
        "- Parse the input photo\n",
        "- Find the hand within the photo\n",
        "- Compare the hand to the reference photos\n",
        "- Find the best match and output the letter\n",
        "```\n",
        "\n"
      ]
    },
    {
      "cell_type": "code",
      "metadata": {
        "id": "JW6AD9zrXb9A",
        "colab_type": "code",
        "colab": {}
      },
      "source": [
        "# Method to parse the sequence \n",
        "def aslToEnglish (image):\n",
        "  letter = 0\n",
        "  # First, Process the dictionary images\n",
        "  # Reads and processes the image\n",
        "  im = cv2.imread(image, 1)\n",
        "  im = cv2.GaussianBlur(im, (5, 5), 0)\n",
        "  gray = cv2.cvtColor(im, cv2.COLOR_BGR2GRAY)\n",
        "  (thr, bw) = cv2.threshold(gray, 127, 255, cv2.THRESH_BINARY) # Black is foreground, white is background\n",
        "\n",
        "  # Create a bounding box around the image\n",
        "  hand = cv2.findContours(bw, cv2.RETR_EXTERNAL, cv2.CHAIN_APPROX_SIMPLE)\n",
        "  (bX, bY, bW, bH) = cv2.boundingRect(hand)\n",
        "\n",
        "  return letter"
      ],
      "execution_count": 0,
      "outputs": []
    },
    {
      "cell_type": "markdown",
      "metadata": {
        "id": "ZRj8-m5-ZINc",
        "colab_type": "text"
      },
      "source": [
        "**Main Method** --> Things to do: Get input working"
      ]
    },
    {
      "cell_type": "code",
      "metadata": {
        "id": "7sBMxT7bXl-_",
        "colab_type": "code",
        "colab": {}
      },
      "source": [
        "# Get the letter requested by the input photo\n",
        "print(\"Input your letter:\")\n",
        "image =  # Save image to this from gDrive\n",
        "eng = aslToEnglish(image)\n",
        "print(\"The letter you're looking for is: \" + eng)"
      ],
      "execution_count": 0,
      "outputs": []
    }
  ]
}