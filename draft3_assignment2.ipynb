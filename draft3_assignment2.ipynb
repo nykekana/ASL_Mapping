{
  "nbformat": 4,
  "nbformat_minor": 0,
  "metadata": {
    "colab": {
      "name": "draft3_assignment2.ipynb",
      "provenance": [],
      "collapsed_sections": [],
      "toc_visible": true,
      "mount_file_id": "13xqNOlMfAHjKnNdPu0v5FTzWccaMxf3b",
      "authorship_tag": "ABX9TyMuz9OAo+Zeh1uL5Vqbvrqm",
      "include_colab_link": true
    },
    "kernelspec": {
      "name": "python3",
      "display_name": "Python 3"
    }
  },
  "cells": [
    {
      "cell_type": "markdown",
      "metadata": {
        "id": "view-in-github",
        "colab_type": "text"
      },
      "source": [
        "<a href=\"https://colab.research.google.com/github/nykekana/ASL_Mapping/blob/master/draft3_assignment2.ipynb\" target=\"_parent\"><img src=\"https://colab.research.google.com/assets/colab-badge.svg\" alt=\"Open In Colab\"/></a>"
      ]
    },
    {
      "cell_type": "markdown",
      "metadata": {
        "id": "WeImKO060Nne",
        "colab_type": "text"
      },
      "source": [
        "# Functions"
      ]
    },
    {
      "cell_type": "code",
      "metadata": {
        "id": "-y94pFDId7Id",
        "colab_type": "code",
        "colab": {}
      },
      "source": [
        "import cv2 \n",
        "from matplotlib import pyplot as plt\n",
        "import numpy as np\n",
        "import os\n",
        "import re"
      ],
      "execution_count": 0,
      "outputs": []
    },
    {
      "cell_type": "code",
      "metadata": {
        "id": "yzFakr6w58Mn",
        "colab_type": "code",
        "colab": {}
      },
      "source": [
        "def top_three_target_images(q,distance_function):\n",
        "  #used for all steps 1-4\n",
        "  # returns a list of the filenames of the top three target images for a given query image q\n",
        "  # parameters: \n",
        "  # q - query image id number \n",
        "  # disance_function: the disctance funciton used compares two images based on simple measures of their color (eg: color, shape, texture)\n",
        "  # pic_files =[f for f in (os.listdir('./images')) if \".jpg\" in f]\n",
        "  \n",
        "  # path = 'content/drive/My Drive/nyk2111_assignment2/images'\n",
        "  pic_files =[f for f in (os.listdir('/content/drive/My Drive/nyk2111_assignment2/images')) if \".jpg\" in f]\n",
        "  \n",
        "  \n",
        "  # pic_files =[f for f in (os.listdir('/content/drive/My Drive/nyk2111_assignment2/images')) if \".jpg\" in f]\n",
        "  # print(pic_files)\n",
        "\n",
        "  pic_files.sort() \n",
        "  all_top_three_targets=[]\n",
        "\n",
        "  for i in range(len(pic_files)):\n",
        "    # print(pic_files[i], pic_files[:i]+pic_files[i+1:])\n",
        "    pic1 = pic_files[i]\n",
        "    d_list=[]\n",
        "    for pic2 in pic_files[:i]+pic_files[i+1:]:\n",
        "      # print(pic1, pic2)\n",
        "      d = distance_function(pic1,pic2) #different part\n",
        "      d_list.append([pic1, pic2, d])\n",
        "    \n",
        "    d_list.sort(key = lambda x: x[2]) \n",
        "    all_top_three_targets.append(d_list[:3])\n",
        "  return [row[1] for row in all_top_three_targets[q-1]]\n",
        "\n",
        "# q=12\n",
        "\n",
        "# print(top_three_target_images(q, combined_distance))\n",
        "\n",
        "# re.findall(r'\\d+', (str(top_three_target_images(q,combined_distance))))"
      ],
      "execution_count": 0,
      "outputs": []
    },
    {
      "cell_type": "code",
      "metadata": {
        "id": "sZrEOove_Oic",
        "colab_type": "code",
        "colab": {}
      },
      "source": [
        "def bottom_target_image(q, distance_function):\n",
        "  #used for all steps 1-4\n",
        "  # returns the filename of the target image most unlike q\n",
        "  # parameters: \n",
        "  # q - query image id number \n",
        "  # disance_function: the disctance function used compares two images based on simple measures of their color (eg: color, shape, texture)\n",
        "  # path = 'content/drive/My Drive/nyk2111_assignment2/images'\n",
        "  pic_files =[f for f in (os.listdir('/content/drive/My Drive/nyk2111_assignment2/images')) if \".jpg\" in f]\n",
        "  pic_files.sort() \n",
        "  all_bottom_targets=[]\n",
        "\n",
        "  for i in range(len(pic_files)):\n",
        "    # print(pic_files[i], pic_files[:i]+pic_files[i+1:])\n",
        "    pic1 = pic_files[i]\n",
        "    d_list=[]\n",
        "    for pic2 in pic_files[:i]+pic_files[i+1:]:\n",
        "      d = distance_function(pic1,pic2)\n",
        "      d_list.append([pic1, pic2, d])\n",
        "    d_list.sort(key = lambda x: x[2]) \n",
        "    all_bottom_targets.append(d_list[-1])\n",
        "  bottom_target = all_bottom_targets[q-1][1]\n",
        "  return bottom_target\n",
        "  \n",
        "# print((bottom_target_image(3, combined_distance)))"
      ],
      "execution_count": 0,
      "outputs": []
    },
    {
      "cell_type": "code",
      "metadata": {
        "id": "tGnhuO4NulBk",
        "colab_type": "code",
        "colab": {}
      },
      "source": [
        "def l1_distance(im_hist1, im_hist2, eps = 1e-10):\n",
        "\t# compute the l1 distance according to equation given on sheet\n",
        "  # image functions were read as the histograms of each of the images \n",
        "  # parameters: \n",
        "  # \n",
        "  rows = 60\n",
        "  cols = 89\n",
        "  d = np.sum([np.abs((a - b)) / (2*rows*cols) for (a, b) in zip(im_hist1, im_hist2)])\n",
        "  return d"
      ],
      "execution_count": 0,
      "outputs": []
    },
    {
      "cell_type": "code",
      "metadata": {
        "id": "Twnc_W65vP5D",
        "colab_type": "code",
        "colab": {}
      },
      "source": [
        "def get_crowd_count_matrix():\n",
        "  # coverts crowd.txt files into a parsable array \n",
        "  with open(\"/content/drive/My Drive/nyk2111_assignment2/Crowd.txt\", \"r\") as file1:\n",
        "      FileasList = file1.readlines()\n",
        "      FileasList = ([line.split() for line in FileasList])\n",
        "      return (FileasList)\n",
        "\n",
        "# get_crowd_count_matrix()[0][2]\n",
        "    "
      ],
      "execution_count": 0,
      "outputs": []
    },
    {
      "cell_type": "code",
      "metadata": {
        "id": "mTn0_nIojqjz",
        "colab_type": "code",
        "colab": {}
      },
      "source": [
        "def get_borda_count(q,t):\n",
        "  # returns the borda count of a specific query image q and target image t accroding to crowd.txt file\n",
        "  return int(get_crowd_count_matrix()[q-1][t-1])\n",
        "# get_borda_count(17,18)"
      ],
      "execution_count": 0,
      "outputs": []
    },
    {
      "cell_type": "code",
      "metadata": {
        "id": "ZIdqsG-XUgvx",
        "colab_type": "code",
        "colab": {}
      },
      "source": [
        "def score(query_image, distance_func, crowd_count_type = get_borda_count):\n",
        "  # \n",
        "  t1, t2, t3 = (re.findall(r'\\d+', (str(top_three_target_images(query_image, distance_func)))))\n",
        "  t1, t2, t3 = int(t1), int(t2), int(t3)\n",
        "  # print(t1,t2, t3)\n",
        "  return crowd_count_type(query_image, t1) + crowd_count_type(query_image, t2) + crowd_count_type(query_image, t3) \n",
        "  \n",
        "\n"
      ],
      "execution_count": 0,
      "outputs": []
    },
    {
      "cell_type": "code",
      "metadata": {
        "id": "_8YzCHqjIerj",
        "colab_type": "code",
        "colab": {}
      },
      "source": [
        "def make_data_row(display_list, image_labels, row_score):\n",
        "  q, t1,t2,t3,t40 = display_list\n",
        "  # print(display_list)\n",
        "  data_row = \"\"\" <tr>\n",
        "    <td><p></p>\"\"\" + str(row_score) + \"\"\" </td>\n",
        "    <td><img src=\" \"\"\" + q + \"\"\" \"><br>\"\"\" + image_labels[0] + \"\"\"</td>\n",
        "    <td><img src=\" \"\"\" + t1 + \"\"\" \"><br>\"\"\" + image_labels[1] + \"\"\"</td>\n",
        "    <td><img src=\" \"\"\" + t2 + \"\"\" \"><br>\"\"\" + image_labels[2] + \"\"\"</td>\n",
        "    <td><img src=\" \"\"\" + t3 +\"\"\" \"><br>\"\"\" + image_labels[3] + \"\"\"</td>\n",
        "    <td><img src=\" \"\"\"+ str(t40) +\"\"\" \"><br>\"\"\" + str(image_labels[4]) + \"\"\"</td>\n",
        "    </tr>\"\"\"\n",
        "  return data_row"
      ],
      "execution_count": 0,
      "outputs": []
    },
    {
      "cell_type": "code",
      "metadata": {
        "id": "LSBOO65ZJ3jN",
        "colab_type": "code",
        "colab": {}
      },
      "source": [
        "def make_html_table(distance_function, score_crowd_count_type=get_borda_count):\n",
        "\n",
        "  path = '/content/drive/My Drive/nyk2111_assignment2/images/'\n",
        "  pic_files =[ path+f for f in (os.listdir('/content/drive/My Drive/nyk2111_assignment2/images')) if \".jpg\" in f]\n",
        "\n",
        "  pic_files.sort()\n",
        "\n",
        "  data_rows = []\n",
        "  # print(pic_files)\n",
        "  for q_num,q in enumerate(pic_files,1):\n",
        "    # print(q_num,q)\n",
        "    t1,t2,t3 = (top_three_target_images(q_num, distance_function))\n",
        "    t40 = bottom_target_image(q_num, distance_function)\n",
        "    # print([q, t1,t2,t3, t40])\n",
        "    row_score = score(q_num, distance_function, crowd_count_type=score_crowd_count_type)\n",
        "    \n",
        "    q_id = re.findall(r'\\d+', (str(q)))[0]\n",
        "    t1_id = re.findall(r'\\d+', (str(t1)))[0]\n",
        "    t2_id = re.findall(r'\\d+', (str(t2)))[0]\n",
        "    t3_id = re.findall(r'\\d+', (str(t3)))[0]\n",
        "    t40_id = re.findall(r'\\d+', (str(t40)))[0]\n",
        "\n",
        "    q_title = \"query image: \" + q_id\n",
        "    t1_title= \"target image: \" + t1_id + \"<br>\" + \"crowd count: \"+ str(get_borda_count(int(q_id), int(t1_id)))\n",
        "    t2_title= \"target image: \" + t2_id + \"<br>\" + \"crowd count: \"+ str(get_borda_count(int(q_id), int(t2_id)))\n",
        "    t3_title= \"target image: \" + t3_id + \"<br>\" +  \"crowd count: \"+ str(get_borda_count(int(q_id), int(t3_id)))\n",
        "    t40_title= \"target image: \" + t40_id + \"<br>\" + \"crowd count: \"+ str(get_borda_count(int(q_id), int(t40_id)))\n",
        "\n",
        "    labels = [q_title, t1_title,t2_title,t3_title, t40_title]\n",
        "\n",
        "    display_list = [q,t1,t2,t3,t40]\n",
        "    row = make_data_row(display_list, labels, row_score)\n",
        "\n",
        "    data_rows.append(row)\n",
        "  all_data_rows = \"\".join(data_rows)\n",
        "  return all_data_rows\n",
        "\n",
        "  "
      ],
      "execution_count": 0,
      "outputs": []
    },
    {
      "cell_type": "code",
      "metadata": {
        "id": "LdGnRRkN9mVL",
        "colab_type": "code",
        "colab": {}
      },
      "source": [
        "def get_system_grand_score_sum(distance_func, score_crowd_count_type = get_borda_count):  \n",
        "  all_scores_list = all_scores(distance_func) # (query image, score of query image)\n",
        "  grand_system_score = [sum(i) for i in zip(*all_scores_list)] [1] # (sum(query images), sum (scores of query images) )\n",
        "  return grand_system_score"
      ],
      "execution_count": 0,
      "outputs": []
    },
    {
      "cell_type": "code",
      "metadata": {
        "id": "tvyd_7TUjan4",
        "colab_type": "code",
        "colab": {}
      },
      "source": [
        "def get_my_preferences_matrix():\n",
        "  with open(\"/content/drive/My Drive/nyk2111_assignment2/MyPreferences.txt\", \"r\") as file1:\n",
        "      FileasList = file1.readlines()\n",
        "      FileasList = ([line.split() for line in FileasList])\n",
        "      return (FileasList)\n",
        "# print(get_my_preferences_matrix())\n",
        "\n",
        "def my_top_three_target_images(query_image):\n",
        "  return get_my_preferences_matrix()[query_image-1][1:]\n",
        "\n",
        "# print(my_top_three_target_images(1))"
      ],
      "execution_count": 0,
      "outputs": []
    },
    {
      "cell_type": "code",
      "metadata": {
        "id": "uDpUtFyZkXHj",
        "colab_type": "code",
        "cellView": "code",
        "colab": {}
      },
      "source": [
        "def matches(q, distance_function):\n",
        "  system_top_three = re.findall(r'\\d+', (str(top_three_target_images(q, distance_function))))\n",
        "  my_top_three = my_top_three_target_images(q)\n",
        "\n",
        "  return len(set(system_top_three) & set(my_top_three))\n",
        "\n",
        "# print(matches(1))"
      ],
      "execution_count": 0,
      "outputs": []
    },
    {
      "cell_type": "code",
      "metadata": {
        "id": "6pye0sSvpxzC",
        "colab_type": "code",
        "colab": {}
      },
      "source": [
        "def lapacian_image(im_name):\n",
        "  ddepth = cv2.CV_16S #3 - \n",
        "  # [variables]\n",
        "  # [load]\n",
        "  imageName = im_name\n",
        "  img = cv2.imread(imageName,0) # Load an image\n",
        "  \n",
        "  laplacian = cv2.Laplacian(img,cv2.CV_16U)\n",
        "\n",
        "  return laplacian\n",
        "# [display]\n",
        "\n",
        "# plt.imshow(lapacian_image(\"i01.jpg\"), cmap='gray')\n",
        "# plt.show()\n",
        "\n"
      ],
      "execution_count": 0,
      "outputs": []
    },
    {
      "cell_type": "code",
      "metadata": {
        "id": "YWQBy8MRqDJl",
        "colab_type": "code",
        "colab": {}
      },
      "source": [
        "def binary_image(im_name):\n",
        "  # Based off of step 3's instructions \n",
        "  # returns an image array of a binary image \n",
        "  intensity_image = lapacian_image(im_name) # intensity image is a grayscale image\n",
        "  (thresh, blackAndWhiteImage) = cv2.threshold(intensity_image, 95, 255, cv2.THRESH_BINARY)\n",
        "  return blackAndWhiteImage\n",
        "# bw_im = binary_image(\"i01.jpg\")\n",
        "# plt.imshow(bw_im, cmap=\"gray\")\n",
        "# plt.axis('off')\n",
        "# plt.show()"
      ],
      "execution_count": 0,
      "outputs": []
    },
    {
      "cell_type": "code",
      "metadata": {
        "id": "597ipU8xzn-_",
        "colab_type": "code",
        "colab": {}
      },
      "source": [
        "path = \"/content/drive/My Drive/nyk2111_assignment2/images/\"\n",
        "def color_distance(image1_filename, image2_filename):\n",
        "  #step 1\n",
        "\n",
        "  # path = \"/content/drive/My Drive/nyk2111_assignment2/images/\"\n",
        "  # image1_filename, image2_filename = path+image1_filename, path+image2_filename\n",
        "\n",
        "  image1 = cv2.imread(image1_filename) \n",
        "  image2 = cv2.imread(image2_filename) \n",
        "\n",
        "  # print(image1, image2)\n",
        "\n",
        "  image1 = cv2.cvtColor(image1, cv2.COLOR_BGR2RGB)\n",
        "  image2 = cv2.cvtColor(image2, cv2.COLOR_BGR2RGB)\n",
        "\n",
        "  hist1 = cv2.calcHist([image1], [0, 1, 2], None, [8, 8, 8], [0, 256, 0, 256, 0, 256])\n",
        "  hist2 = cv2.calcHist([image2], [0, 1, 2], None, [8, 8, 8], [0, 256, 0, 256, 0, 256])\n",
        "\n",
        "  d = l1_distance(hist1, hist2)\n",
        "  return d \n",
        "\n",
        "def texture_distance(image1_filename, image2_filename):\n",
        "  #step2 \n",
        "  path = \"/content/drive/My Drive/nyk2111_assignment2/images/\"\n",
        "\n",
        "  image1_filename, image2_filename = path+image1_filename, path+image2_filename\n",
        "\n",
        "  image1 = lapacian_image(image1_filename)\n",
        "  image2 = lapacian_image(image2_filename)\n",
        "\n",
        "  hist1 = cv2.calcHist([image1],[0],None,[256],[0,256])\n",
        "  hist2 = cv2.calcHist([image2],[0],None,[256],[0,256])\n",
        "\n",
        "  d = l1_distance(hist1, hist2)\n",
        "  return d\n",
        "def shape_distance(image1_filename, image2_filename):\n",
        "  #step 3\n",
        "  path = \"/content/drive/My Drive/nyk2111_assignment2/images/\"\n",
        "\n",
        "  image1_filename, image2_filename = path+image1_filename, path+image2_filename\n",
        "\n",
        "  a, b = binary_image(image1_filename), binary_image(image2_filename)\n",
        "  rows,cols = 60,89\n",
        "\n",
        "  total_sum = []\n",
        "  for x in range(rows):\n",
        "    for y in range(cols):\n",
        "        k = int(a[x,y] == b[x,y])\n",
        "        total_sum.append(abs(k)/(60*89))\n",
        "  return ( sum(total_sum) )\n",
        "\n",
        "def combined_distance(image1_filename, image2_filename):\n",
        "  # a,\n",
        "  # path = \"/content/drive/My Drive/nyk2111_assignment2/images/\"\n",
        "\n",
        "  # image1_filename, image2_filename = path+image1_filename, path+image2_filename\n",
        "\n",
        "  q,t = re.findall(r'\\d+', (image1_filename))[0], re.findall(r'\\d+', (image2_filename))[0]\n",
        "  q,t = int(q), int(t)\n",
        "\n",
        "  color_d = color_distance(image1_filename, image2_filename)\n",
        "  texture_d = texture_distance(image1_filename, image2_filename)\n",
        "  shape_d = shape_distance(image1_filename, image2_filename)\n",
        "\n",
        "  ground_truth = get_borda_count(q,t)/(6*65)\n",
        "\n",
        "  all_d = [color_d, texture_d, shape_d]\n",
        "  closest = (min(all_d, key=lambda x:abs(x-ground_truth)))\n",
        "\n",
        "  if (closest == color_d):\n",
        "    a,b,c = 0.5,0.25,0.25\n",
        "  if (closest == texture_d):\n",
        "    a,b,c = 0.25,0.5,0.25\n",
        "  if (closest == shape_d):\n",
        "    a,b,c = 0.25,0.25,0.5\n",
        "\n",
        "  p = a*color_d + b*texture_d + c*shape_d\n",
        "  return p"
      ],
      "execution_count": 0,
      "outputs": []
    },
    {
      "cell_type": "code",
      "metadata": {
        "id": "WusptrFcz11A",
        "colab_type": "code",
        "colab": {}
      },
      "source": [
        "def all_scores(distance_func, score_crowd_count_type = get_borda_count):\n",
        "  all_scores_list = []\n",
        "  for i in range(1,41):\n",
        "    all_scores_list.append((i, score(i, distance_func, crowd_count_type=score_crowd_count_type))) # (query image, score of query image)\n",
        "  all_scores_list.sort(key = lambda x: x[1]) # in order according to score least to greatest\n",
        "  return (all_scores_list)\n",
        "\n",
        "\n",
        "# all_scores(distance_func=shape_distance)"
      ],
      "execution_count": 0,
      "outputs": []
    },
    {
      "cell_type": "code",
      "metadata": {
        "id": "6O-CQvsD1B9S",
        "colab_type": "code",
        "colab": {}
      },
      "source": [
        "def get_highest_score(distance_func, score_crowd_count_type = get_borda_count):\n",
        "  all_scores_list = all_scores(distance_func, score_crowd_count_type = get_borda_count)\n",
        "  highest_score = all_scores_list[0]\n",
        "  return highest_score # (query image, score of query image)\n",
        "\n",
        "def get_lowest_score(distance_func, score_crowd_count_type = get_borda_count):\n",
        "  all_scores_list = all_scores(distance_func, score_crowd_count_type = get_borda_count)\n",
        "  lowest_score = all_scores_list[-1]\n",
        "  return lowest_score # (query image, score of query image)"
      ],
      "execution_count": 0,
      "outputs": []
    },
    {
      "cell_type": "code",
      "metadata": {
        "id": "EO_2kVvA2-Ka",
        "colab_type": "code",
        "colab": {}
      },
      "source": [
        "def get_all_targets_match(distance_func):\n",
        "  all_matches = get_all_matches(distance_function=distance_func)\n",
        "  all_targets_match_query_list = []\n",
        "  for i in all_matches: \n",
        "    num_of_matches = i[1]\n",
        "    query_image = i[0]\n",
        "    if num_of_matches == 3:\n",
        "      all_targets_match_query_list.append(query_image)\n",
        "  return all_targets_match_query_list\n",
        "\n",
        "def get_no_targets_match(distance_func):\n",
        "  all_matches = get_all_matches(distance_function=distance_func)\n",
        "  no_targets_match_query_list = []\n",
        "  for i in all_matches: \n",
        "    num_of_matches = i[1]\n",
        "    query_image = i[0]\n",
        "    if num_of_matches == 0:\n",
        "      no_targets_match_query_list.append(query_image)\n",
        "  return no_targets_match_query_list"
      ],
      "execution_count": 0,
      "outputs": []
    },
    {
      "cell_type": "code",
      "metadata": {
        "id": "reyOKX6K1cH4",
        "colab_type": "code",
        "colab": {}
      },
      "source": [
        "#matches\n",
        "def get_all_matches(distance_function):\n",
        "  all_matches = []\n",
        "  for i in range(1,41):\n",
        "    all_matches.append((i, matches(i, distance_function))) # (query image, number of target matches )\n",
        "  return(all_matches)\n",
        "\n",
        "# print(get_all_matches(distance_function=color_distance))"
      ],
      "execution_count": 0,
      "outputs": []
    },
    {
      "cell_type": "markdown",
      "metadata": {
        "id": "yV011k1Krz-k",
        "colab_type": "text"
      },
      "source": [
        "\n",
        "# Results\n",
        "---\n",
        "\n"
      ]
    },
    {
      "cell_type": "markdown",
      "metadata": {
        "id": "2HzFj7tH7rAm",
        "colab_type": "text"
      },
      "source": [
        "# Step 1"
      ]
    },
    {
      "cell_type": "code",
      "metadata": {
        "id": "onpMUOQQdKg8",
        "colab_type": "code",
        "outputId": "f5be061b-51b6-4c04-c2a5-6791f0a6b38f",
        "colab": {
          "base_uri": "https://localhost:8080/",
          "height": 51
        }
      },
      "source": [
        "!ls"
      ],
      "execution_count": 129,
      "outputs": [
        {
          "output_type": "stream",
          "text": [
            "shell-init: error retrieving current directory: getcwd: cannot access parent directories: Transport endpoint is not connected\n",
            "ls: cannot open directory '.': Transport endpoint is not connected\n"
          ],
          "name": "stdout"
        }
      ]
    },
    {
      "cell_type": "markdown",
      "metadata": {
        "id": "IE03R7FwibQX",
        "colab_type": "text"
      },
      "source": [
        "\n",
        "## System versus crowd preferences, using scores\n"
      ]
    },
    {
      "cell_type": "code",
      "metadata": {
        "id": "9tAlZFWsk-1h",
        "colab_type": "code",
        "outputId": "356932ae-c1f2-48e0-8646-e53cbda1ad4c",
        "colab": {
          "base_uri": "https://localhost:8080/",
          "height": 861
        }
      },
      "source": [
        "data = make_html_table(distance_function=color_distance)\n",
        "grand_system_score = get_system_grand_score_sum(distance_func=color_distance)\n",
        "grand_system_score_html = \"<h2>Scores Grand total: \"+str(grand_system_score)+\"</h2>\"\n",
        "\n",
        "results_table = \"\"\" <html><body><table>\n",
        "    <tr>\n",
        "        <th>Score</th>\n",
        "        <th>Query Image</th>\n",
        "        <th>target 1</th>\n",
        "        <th>target 2</th>\n",
        "        <th>target 3</th>\n",
        "        <th>target 40</th>\n",
        "      </tr> \"\"\" + data +\"\"\" <tr>\"\"\"+grand_system_score_html+\"\"\" </html></body></table>\"\"\"\n",
        "\n",
        "\n",
        "with open(\"/content/drive/My Drive/nyk2111_assignment2/images/step1_results.html\", 'w') as file: \n",
        "  file.write(results_table)\n",
        "\n",
        "print(\"Done creating step 1 crowd-based accuracy table.....\")"
      ],
      "execution_count": 130,
      "outputs": [
        {
          "output_type": "stream",
          "text": [
            "ERROR:root:Internal Python error in the inspect module.\n",
            "Below is the traceback from this internal error.\n",
            "\n"
          ],
          "name": "stderr"
        },
        {
          "output_type": "stream",
          "text": [
            "Traceback (most recent call last):\n",
            "  File \"/usr/local/lib/python3.6/dist-packages/IPython/core/interactiveshell.py\", line 2882, in run_code\n",
            "    exec(code_obj, self.user_global_ns, self.user_ns)\n",
            "  File \"<ipython-input-130-23b6f1820a38>\", line 1, in <module>\n",
            "    data = make_html_table(distance_function=color_distance)\n",
            "  File \"<ipython-input-113-dd647e10d690>\", line 12, in make_html_table\n",
            "    t1,t2,t3 = (top_three_target_images(q_num, distance_function))\n",
            "  File \"<ipython-input-106-0e8acf075250>\", line 25, in top_three_target_images\n",
            "    d = distance_function(pic1,pic2) #different part\n",
            "  File \"<ipython-input-119-25f6cfc3041d>\", line 13, in color_distance\n",
            "    image1 = cv2.cvtColor(image1, cv2.COLOR_BGR2RGB)\n",
            "cv2.error: OpenCV(4.1.2) /io/opencv/modules/imgproc/src/color.cpp:182: error: (-215:Assertion failed) !_src.empty() in function 'cvtColor'\n",
            "\n",
            "\n",
            "During handling of the above exception, another exception occurred:\n",
            "\n",
            "Traceback (most recent call last):\n",
            "  File \"/usr/local/lib/python3.6/dist-packages/IPython/core/interactiveshell.py\", line 1823, in showtraceback\n",
            "    stb = value._render_traceback_()\n",
            "AttributeError: 'error' object has no attribute '_render_traceback_'\n",
            "\n",
            "During handling of the above exception, another exception occurred:\n",
            "\n",
            "Traceback (most recent call last):\n",
            "  File \"/usr/local/lib/python3.6/dist-packages/IPython/core/ultratb.py\", line 1132, in get_records\n",
            "    return _fixed_getinnerframes(etb, number_of_lines_of_context, tb_offset)\n",
            "  File \"/usr/local/lib/python3.6/dist-packages/IPython/core/ultratb.py\", line 313, in wrapped\n",
            "    return f(*args, **kwargs)\n",
            "  File \"/usr/local/lib/python3.6/dist-packages/IPython/core/ultratb.py\", line 358, in _fixed_getinnerframes\n",
            "    records = fix_frame_records_filenames(inspect.getinnerframes(etb, context))\n",
            "  File \"/usr/lib/python3.6/inspect.py\", line 1490, in getinnerframes\n",
            "    frameinfo = (tb.tb_frame,) + getframeinfo(tb, context)\n",
            "  File \"/usr/lib/python3.6/inspect.py\", line 1448, in getframeinfo\n",
            "    filename = getsourcefile(frame) or getfile(frame)\n",
            "  File \"/usr/lib/python3.6/inspect.py\", line 696, in getsourcefile\n",
            "    if getattr(getmodule(object, filename), '__loader__', None) is not None:\n",
            "  File \"/usr/lib/python3.6/inspect.py\", line 725, in getmodule\n",
            "    file = getabsfile(object, _filename)\n",
            "  File \"/usr/lib/python3.6/inspect.py\", line 709, in getabsfile\n",
            "    return os.path.normcase(os.path.abspath(_filename))\n",
            "  File \"/usr/lib/python3.6/posixpath.py\", line 383, in abspath\n",
            "    cwd = os.getcwd()\n",
            "OSError: [Errno 107] Transport endpoint is not connected\n"
          ],
          "name": "stdout"
        },
        {
          "output_type": "error",
          "ename": "error",
          "evalue": "ignored",
          "traceback": [
            "\u001b[0;31m---------------------------------------------------------------------------\u001b[0m"
          ]
        }
      ]
    },
    {
      "cell_type": "markdown",
      "metadata": {
        "id": "_XxWHmf8Jq4w",
        "colab_type": "text"
      },
      "source": [
        "## System versus personal preferences, using set intersection"
      ]
    },
    {
      "cell_type": "code",
      "metadata": {
        "id": "23kmaFpDvwyJ",
        "colab_type": "code",
        "colab": {}
      },
      "source": [
        "# step 1\n",
        "distance_function = color_distance # step 1\n",
        "grand_intersection_value1 = sum([matches(q, distance_function) for q in range(1,41) ])\n",
        "print(\"For Step 1, grand intersection value is \", grand_intersection_value1)\n",
        "# print('{0:.2f}%'.format((grand_intersection_value / 120 * 100)))\n"
      ],
      "execution_count": 0,
      "outputs": []
    },
    {
      "cell_type": "markdown",
      "metadata": {
        "id": "eJHG4GaqKD-K",
        "colab_type": "text"
      },
      "source": [
        "## Discussion"
      ]
    },
    {
      "cell_type": "code",
      "metadata": {
        "id": "2rfFwYf-6FmU",
        "colab_type": "code",
        "colab": {}
      },
      "source": [
        "distance_function = color_distance # step 1\n",
        "\n",
        "highest_color_score_query_image = get_highest_score(distance_function)[0]\n",
        "lowest_color_score_query_image = get_lowest_score(distance_function)[0]\n",
        "\n",
        "print(\"For Step 1, the system get the highest score for the following queries: \",highest_color_score_query_image)\n",
        "print(\"For Step 1, the system get the lowest score for the following queries: \",lowest_color_score_query_image)\n",
        "\n",
        "color_all_targets_match_query_list =  get_all_targets_match(distance_function)\n",
        "color_no_targets_match_query_list = get_no_targets_match(distance_function)\n",
        "\n",
        "print(\"For Step 1, all three of my personal preferences matched for the following queries: \",color_all_targets_match_query_list)\n",
        "print(\"For Step 1, none of my three personal preferences matched for the following queries: \",color_no_targets_match_query_list)"
      ],
      "execution_count": 0,
      "outputs": []
    },
    {
      "cell_type": "markdown",
      "metadata": {
        "id": "gW92iRo7pviq",
        "colab_type": "text"
      },
      "source": [
        "# Step 2 "
      ]
    },
    {
      "cell_type": "markdown",
      "metadata": {
        "colab_type": "text",
        "id": "sv7lcIYN_llm"
      },
      "source": [
        "\n",
        "## System versus crowd preferences, using scores\n"
      ]
    },
    {
      "cell_type": "code",
      "metadata": {
        "colab_type": "code",
        "id": "kOTz12PrPo4U",
        "colab": {}
      },
      "source": [
        "data = make_html_table(distance_function=texture_distance)\n",
        "texture_grand_system_score = get_system_grand_score_sum(distance_func=texture_distance)\n",
        "grand_system_score_html = \"<h2>Scores Grand total: \"+str(texture_grand_system_score)+\"</h2>\"\n",
        "\n",
        "results_table = \"\"\" <html><body><table>\n",
        "    <tr>\n",
        "        <th>Score</th>\n",
        "        <th>Query Image</th>\n",
        "        <th>target 1</th>\n",
        "        <th>target 2</th>\n",
        "        <th>target 3</th>\n",
        "        <th>target 40</th>\n",
        "      </tr> \"\"\" + data +\"\"\" <tr>\"\"\"+grand_system_score_html+\"\"\" </html></body></table>\"\"\"\n",
        "\n",
        "# %cd /content/drive/My Drive/nyk2111_assignment2/images\n",
        "\n",
        "with open(\"/content/drive/My Drive/nyk2111_assignment2/images/step2_results.html\", 'w') as file: \n",
        "  file.write(results_table)\n",
        "\n",
        "print(\"Done creating step 2 crowd-based accuracy table.....\")"
      ],
      "execution_count": 0,
      "outputs": []
    },
    {
      "cell_type": "markdown",
      "metadata": {
        "id": "mxFSzjdv_Ofn",
        "colab_type": "text"
      },
      "source": [
        "## System versus personal preferences, using set intersection"
      ]
    },
    {
      "cell_type": "code",
      "metadata": {
        "colab_type": "code",
        "id": "wOHbYrF-AKr5",
        "colab": {}
      },
      "source": [
        "# step 2\n",
        "distance_function = texture_distance # step 2\n",
        "\n",
        "grand_intersection_value2 = sum([matches(q, distance_function) for q in range(1,41) ])\n",
        "print(\"For Step 2, grand intersection value is \", grand_intersection_value2)\n",
        "# print('{0:.2f}%'.format((grand_intersection_value / 120 * 100)))\n"
      ],
      "execution_count": 0,
      "outputs": []
    },
    {
      "cell_type": "markdown",
      "metadata": {
        "id": "B_h8NG-R-wCR",
        "colab_type": "text"
      },
      "source": [
        "## Discussion "
      ]
    },
    {
      "cell_type": "code",
      "metadata": {
        "colab_type": "code",
        "id": "9-U5vIlc-y_N",
        "colab": {}
      },
      "source": [
        "distance_function = texture_distance # step 2\n",
        "\n",
        "highest_texture_score_query_image = get_highest_score(distance_function)[0]\n",
        "lowest_texture_score_query_image = get_lowest_score(distance_function)[0]\n",
        "\n",
        "print(\"For Step 2, the system get the highest score for the following queries: \",highest_texture_score_query_image)\n",
        "\n",
        "print(\"For Step 2, the system get the lowest score for the following queries: \",lowest_texture_score_query_image)\n",
        "\n",
        "color_all_targets_match_query_list =  get_all_targets_match(distance_function)\n",
        "color_no_targets_match_query_list = get_no_targets_match(distance_function)\n",
        "\n",
        "print(\"For Step 2, all three of my personal preferences matched for the following queries: \",color_all_targets_match_query_list)\n",
        "print(\"For Step 2, none of my three personal preferences matched for the following queries: \",color_no_targets_match_query_list)"
      ],
      "execution_count": 0,
      "outputs": []
    },
    {
      "cell_type": "markdown",
      "metadata": {
        "id": "OLa7NPYRZe3j",
        "colab_type": "text"
      },
      "source": [
        "# Step 3"
      ]
    },
    {
      "cell_type": "markdown",
      "metadata": {
        "colab_type": "text",
        "id": "pypbNP05_my1"
      },
      "source": [
        "\n",
        "## System versus crowd preferences, using scores\n"
      ]
    },
    {
      "cell_type": "code",
      "metadata": {
        "colab_type": "code",
        "id": "oV5TUo5aP-Hz",
        "colab": {}
      },
      "source": [
        "data = make_html_table(distance_function=shape_distance)\n",
        "shape_grand_system_score = get_system_grand_score_sum(distance_func=shape_distance)\n",
        "grand_system_score_html = \"<h2>Scores Grand total: \"+str(shape_grand_system_score)+\"</h2>\"\n",
        "\n",
        "results_table = \"\"\" <html><body><table>\n",
        "    <tr>\n",
        "        <th>Score</th>\n",
        "        <th>Query Image</th>\n",
        "        <th>target 1</th>\n",
        "        <th>target 2</th>\n",
        "        <th>target 3</th>\n",
        "        <th>target 40</th>\n",
        "      </tr> \"\"\" + data +\"\"\" <tr>\"\"\"+grand_system_score_html+\"\"\" </html></body></table>\"\"\"\n",
        "# %cd /content/drive/My Drive/nyk2111_assignment2/images\n",
        "\n",
        "with open(\"/content/drive/My Drive/nyk2111_assignment2/images/step3_results.html\", 'w') as file: \n",
        "  file.write(results_table)\n",
        "\n",
        "print(\"Done creating step 3 crowd-based accuracy table.....\")"
      ],
      "execution_count": 0,
      "outputs": []
    },
    {
      "cell_type": "markdown",
      "metadata": {
        "colab_type": "text",
        "id": "Py1RHml8_soH"
      },
      "source": [
        "## System versus personal preferences, using set intersection"
      ]
    },
    {
      "cell_type": "code",
      "metadata": {
        "colab_type": "code",
        "id": "jCRUz0mSAZx9",
        "colab": {}
      },
      "source": [
        "# step 3\n",
        "distance_function = shape_distance # step 3\n",
        "\n",
        "grand_intersection_value3 = sum([matches(q, distance_function) for q in range(1,41) ])\n",
        "print(\"For Step 3, grand intersection value is \", grand_intersection_value3)\n",
        "# print('{0:.2f}%'.format((grand_intersection_value / 120 * 100)))\n"
      ],
      "execution_count": 0,
      "outputs": []
    },
    {
      "cell_type": "markdown",
      "metadata": {
        "id": "TAxQB0PD_4kz",
        "colab_type": "text"
      },
      "source": [
        "## Discussion"
      ]
    },
    {
      "cell_type": "code",
      "metadata": {
        "colab_type": "code",
        "id": "JxJjiXhNBxsI",
        "colab": {}
      },
      "source": [
        "distance_function = shape_distance # step 3\n",
        "\n",
        "highest_distance_score_query_image = get_highest_score(distance_function)[0]\n",
        "lowest_distance_score_query_image = get_lowest_score(distance_function)[0]\n",
        "\n",
        "print(\"For Step 3, the system get the highest score for the following queries: \",highest_distance_score_query_image)\n",
        "print(\"For Step 3, the system get the lowest score for the following queries: \",lowest_distance_score_query_image)\n",
        "\n",
        "color_all_targets_match_query_list =  get_all_targets_match(distance_function)\n",
        "color_no_targets_match_query_list = get_no_targets_match(distance_function)\n",
        "\n",
        "print(\"For Step 3, all three of my personal preferences matched for the following queries: \",color_all_targets_match_query_list)\n",
        "print(\"For Step 3, none of my three personal preferences matched for the following queries: \",color_no_targets_match_query_list)"
      ],
      "execution_count": 0,
      "outputs": []
    },
    {
      "cell_type": "markdown",
      "metadata": {
        "id": "tBG0-nLHzf8-",
        "colab_type": "text"
      },
      "source": [
        "# Step 4"
      ]
    },
    {
      "cell_type": "markdown",
      "metadata": {
        "colab_type": "text",
        "id": "Js6WDRil_nfH"
      },
      "source": [
        "\n",
        "## System versus crowd preferences, using scores\n"
      ]
    },
    {
      "cell_type": "code",
      "metadata": {
        "colab_type": "code",
        "id": "RhMLL10SQN5x",
        "colab": {}
      },
      "source": [
        "data = make_html_table(distance_function=combined_distance)\n",
        "combined_grand_system_score = get_system_grand_score_sum(distance_func=combined_distance)\n",
        "grand_system_score_html = \"<h2>Scores Grand total: \"+str(combined_grand_system_score)+\"</h2>\"\n",
        "\n",
        "results_table = \"\"\" <html><body><table>\n",
        "    <tr>\n",
        "        <th>Score</th>\n",
        "        <th>Query Image</th>\n",
        "        <th>target 1</th>\n",
        "        <th>target 2</th>\n",
        "        <th>target 3</th>\n",
        "        <th>target 40</th>\n",
        "      </tr> \"\"\" + data +\"\"\" <tr>\"\"\"+grand_system_score_html+\"\"\" </html></body></table>\"\"\"\n",
        "\n",
        "# %cd /content/drive/My Drive/nyk2111_assignment2/images\n",
        "\n",
        "with open(\"/content/drive/My Drive/nyk2111_assignment2/images/step4_results.html\", 'w') as file: \n",
        "  file.write(results_table)\n",
        "\n",
        "print(\"Done creating step 4 crowd-based accuracy table.....\")"
      ],
      "execution_count": 0,
      "outputs": []
    },
    {
      "cell_type": "markdown",
      "metadata": {
        "colab_type": "text",
        "id": "phluXP9p_t0-"
      },
      "source": [
        "## System versus personal preferences, using set intersection"
      ]
    },
    {
      "cell_type": "code",
      "metadata": {
        "colab_type": "code",
        "id": "oAj3lLPtAoOU",
        "colab": {}
      },
      "source": [
        "# step 4\n",
        "distance_function = combined_distance # step 4\n",
        "\n",
        "grand_intersection_value4 = sum([matches(q, distance_function) for q in range(1,41) ])\n",
        "print(\"For Step 4, grand intersection value is \", grand_intersection_value4)\n",
        "# print('{0:.2f}%'.format((grand_intersection_value / 120 * 100)))\n"
      ],
      "execution_count": 0,
      "outputs": []
    },
    {
      "cell_type": "markdown",
      "metadata": {
        "id": "C-I-tDWj4U01",
        "colab_type": "text"
      },
      "source": [
        "The values of a,b,c depend on how close each of the distances are to the ground truth. The closer the distance is, the more weight that distance has in the overall linear sum. "
      ]
    },
    {
      "cell_type": "markdown",
      "metadata": {
        "id": "-au1DyHZ_8LC",
        "colab_type": "text"
      },
      "source": [
        "## Discussion"
      ]
    },
    {
      "cell_type": "code",
      "metadata": {
        "colab_type": "code",
        "id": "5Cx6-33pAjAy",
        "colab": {}
      },
      "source": [
        "distance_function = combined_distance # step 4\n",
        "\n",
        "highest_color_score_query_image = get_highest_score(distance_function)[0]\n",
        "lowest_color_score_query_image = get_lowest_score(distance_function)[0]\n",
        "\n",
        "print(\"For Step 4, the system get the highest score for the following queries: \",highest_color_score_query_image)\n",
        "print(\"For Step 4, the system get the lowest score for the following queries: \",lowest_color_score_query_image)\n",
        "\n",
        "color_all_targets_match_query_list =  get_all_targets_match(distance_function)\n",
        "color_no_targets_match_query_list = get_no_targets_match(distance_function)\n",
        "\n",
        "print(\"For Step 4, all three of my personal preferences matched for the following queries: \",color_all_targets_match_query_list)\n",
        "print(\"For Step 4, none of my three personal preferences matched for the following queries: \",color_no_targets_match_query_list)"
      ],
      "execution_count": 0,
      "outputs": []
    },
    {
      "cell_type": "markdown",
      "metadata": {
        "id": "UKrKCnleKp7o",
        "colab_type": "text"
      },
      "source": [
        "# Step 5"
      ]
    },
    {
      "cell_type": "markdown",
      "metadata": {
        "id": "aofoRpGSCe04",
        "colab_type": "text"
      },
      "source": [
        "## Crowd-based performance"
      ]
    },
    {
      "cell_type": "markdown",
      "metadata": {
        "id": "shF5GnCKCqsu",
        "colab_type": "text"
      },
      "source": [
        "### What is the actual upper bound on the very best grand total score that is possible with these images, given all the differences of opinion in Crowd.txt?"
      ]
    },
    {
      "cell_type": "code",
      "metadata": {
        "id": "4xY559M5EJu6",
        "colab_type": "code",
        "colab": {}
      },
      "source": [
        "best_scores_all_distances_query_images = [get_system_grand_score_sum(color_distance),\n",
        "                                          get_system_grand_score_sum(shape_distance),\n",
        "                                          get_system_grand_score_sum(texture_distance), \n",
        "                                          get_system_grand_score_sum(combined_distance)]\n",
        "upper_bound = max(best_scores_all_distances_query_images)\n",
        "\n",
        "print(\"The actual upper bound (i.e.: the highest score of all the distances that this system can compute) is  \", upper_bound)\n"
      ],
      "execution_count": 0,
      "outputs": []
    },
    {
      "cell_type": "markdown",
      "metadata": {
        "id": "gZd-_Y1ECyIY",
        "colab_type": "text"
      },
      "source": [
        "### How close (as a percentage) did your final system grand total score come to this actual upper bound?"
      ]
    },
    {
      "cell_type": "code",
      "metadata": {
        "id": "0KW0LVioHhHn",
        "colab_type": "code",
        "colab": {}
      },
      "source": [
        "system_diff = abs(combined_grand_system_score-upper_bound)/upper_bound*100\n",
        "print(\"My final system, which I found from Step 4, got \", system_diff, \"% close to this upper bound\")"
      ],
      "execution_count": 0,
      "outputs": []
    },
    {
      "cell_type": "markdown",
      "metadata": {
        "id": "J_nGbXsSCy-P",
        "colab_type": "text"
      },
      "source": [
        "\n",
        "### How close (as a percentage) did your personal preference grand intersection value come to the maximum of 120?"
      ]
    },
    {
      "cell_type": "code",
      "metadata": {
        "colab_type": "code",
        "id": "USPybxF4HvWV",
        "colab": {}
      },
      "source": [
        "personal_diff = abs(120-grand_intersection_value4)/120 *100\n",
        "print(\"My personal preference grand intersection got \", personal_diff, \"% close to this upper bound\")"
      ],
      "execution_count": 0,
      "outputs": []
    },
    {
      "cell_type": "markdown",
      "metadata": {
        "id": "OpIEiPIvDEsx",
        "colab_type": "text"
      },
      "source": [
        "## User-based performance"
      ]
    },
    {
      "cell_type": "markdown",
      "metadata": {
        "id": "SOarZpC-D1MA",
        "colab_type": "text"
      },
      "source": [
        "### Replace Crowd.txt with a (very sparse) 40x40 matrix that was crowd-sourced based only on you. That is, each row has a single 3, a single 2, and a single 1, and sums to 6"
      ]
    },
    {
      "cell_type": "code",
      "metadata": {
        "colab_type": "code",
        "id": "7ytRBmFyINHI",
        "colab": {}
      },
      "source": [
        "def get_my_crowd(q,t):\n",
        "  return int(make_my_crowd_matrix()[q-1][t-1])\n",
        "def make_my_crowd_matrix():\n",
        "  rows, cols = 40,40\n",
        "  a = [[0 for x in range(1, 1+rows)] for y in range(1, 1+cols)]\n",
        "  # print(b)\n",
        "\n",
        "  for q in range(1, 1+rows):\n",
        "    t1,t2,t3 = my_top_three_target_images(q)\n",
        "    t1,t2,t3 = int(t1), int(t2), int(t3)\n",
        "\n",
        "    row_num = q-1\n",
        "    # print(\"Row: \", row_num)\n",
        "    # print([t1,t2,t3])\n",
        "    a[q-1][t1-1] = 1\n",
        "    a[q-1][t2-1] = 2\n",
        "    a[q-1][t3-1] = 3\n",
        "\n",
        "    if (sum(a[row_num]) is not 6):\n",
        "      print(\"OH NO!\", sum(a[row_num]))\n",
        "  return a\n",
        "\n",
        "def write_my_crowd():\n",
        "  a = make_my_crowd_matrix()\n",
        "  mat = np.matrix(a)\n",
        "  with open('/content/drive/My Drive/nyk2111_assignment2/MyCrowd.txt','wb') as f:\n",
        "      for line in mat:\n",
        "          np.savetxt(f, line, fmt='%.2f')\n",
        "q=11\n",
        "t=7\n",
        "print(my_top_three_target_images(q))\n",
        "print(make_my_crowd_matrix()[q-1][t-1])"
      ],
      "execution_count": 0,
      "outputs": []
    },
    {
      "cell_type": "code",
      "metadata": {
        "colab_type": "code",
        "id": "R3WAAMxdQllN",
        "colab": {}
      },
      "source": [
        "write_my_crowd()"
      ],
      "execution_count": 0,
      "outputs": []
    },
    {
      "cell_type": "markdown",
      "metadata": {
        "id": "KzRtHBVeD4Z0",
        "colab_type": "text"
      },
      "source": [
        "### Redo Step 4–but keeping your decisions in Steps 1, 2, and 3, the same–by simply searching for the values of (a, b, c) that make you happiest"
      ]
    },
    {
      "cell_type": "code",
      "metadata": {
        "id": "T3aoexViqrwM",
        "colab_type": "code",
        "colab": {}
      },
      "source": [
        "print(score(1,combined_distance)) # out of 354\n",
        "print(score(1,combined_distance, crowd_count_type=get_my_crowd)) # out of 9\n",
        "\n",
        "print(score(1,combined_distance)/354)\n",
        "print(score(1,combined_distance, crowd_count_type=get_my_crowd)/9) # out of 9"
      ],
      "execution_count": 0,
      "outputs": []
    },
    {
      "cell_type": "markdown",
      "metadata": {
        "id": "E2em9T_ypPVr",
        "colab_type": "text"
      },
      "source": [
        "#### System versus crowd preferences, using scores"
      ]
    },
    {
      "cell_type": "code",
      "metadata": {
        "colab_type": "code",
        "id": "WKhlPznOpMWk",
        "colab": {}
      },
      "source": [
        "data = make_html_table(distance_function=combined_distance, score_crowd_count_type=get_my_crowd)\n",
        "combined_grand_system_score = get_system_grand_score_sum(distance_func=combined_distance, score_crowd_count_type= get_my_crowd)\n",
        "grand_system_score_html = \"<h2>Scores Grand total: \"+str(combined_grand_system_score)+\"</h2>\"\n",
        "\n",
        "\n",
        "results_table = \"\"\" <html><body><table>\n",
        "    <tr>\n",
        "        <th>Score</th>\n",
        "        <th>Query Image</th>\n",
        "        <th>target 1</th>\n",
        "        <th>target 2</th>\n",
        "        <th>target 3</th>\n",
        "        <th>target 40</th>\n",
        "      </tr> \"\"\" + data +\"\"\" <tr>\"\"\"+grand_system_score_html+\"\"\" </html></body></table>\"\"\"\n",
        "\n",
        "\n",
        "\n",
        "# %cd /content/drive/My Drive/nyk2111_assignment2/images\n",
        "\n",
        "with open(\"step5_results.html\", 'w') as file: \n",
        "  file.write(results_table)\n",
        "\n",
        "print(\"Done creating step 5 crowd-based accuracy table.....\")"
      ],
      "execution_count": 0,
      "outputs": []
    },
    {
      "cell_type": "markdown",
      "metadata": {
        "id": "Gu7DPAI7pY5p",
        "colab_type": "text"
      },
      "source": [
        "#### System versus personal preferences, using set intersection "
      ]
    },
    {
      "cell_type": "code",
      "metadata": {
        "colab_type": "code",
        "id": "RQofnVnaARGo",
        "colab": {}
      },
      "source": [
        "# step 5\n",
        "distance_function = combined_distance # step 5\n",
        "\n",
        "grand_intersection_value5 = sum([matches(q, distance_function) for q in range(1,41) ])\n",
        "print(\"For Step 5, grand intersection value is \", grand_intersection_value5)\n",
        "# print('{0:.2f}%'.format((grand_intersection_value / 120 * 100)))\n"
      ],
      "execution_count": 0,
      "outputs": []
    },
    {
      "cell_type": "markdown",
      "metadata": {
        "id": "vLPvGBowpmhT",
        "colab_type": "text"
      },
      "source": [
        "#### Discussion"
      ]
    },
    {
      "cell_type": "code",
      "metadata": {
        "colab_type": "code",
        "id": "T1_0mv1ZK-GU",
        "colab": {}
      },
      "source": [
        "distance_function = combined_distance # step 5\n",
        "\n",
        "highest_score_query_image = get_highest_score(distance_function, score_crowd_count_type = get_my_crowd)[0]\n",
        "lowest_score_query_image = get_lowest_score(distance_function)[0]\n",
        "\n",
        "print(\"For Step 5, the system get the highest score for the following queries: \",highest_color_score_query_image)\n",
        "print(\"For Step 5, the system get the lowest score for the following queries: \",lowest_color_score_query_image)\n",
        "\n",
        "color_all_targets_match_query_list =  get_all_targets_match(distance_function)\n",
        "color_no_targets_match_query_list = get_no_targets_match(distance_function)\n",
        "\n",
        "print(\"For Step 5, all three of my personal preferences matched for the following queries: \",color_all_targets_match_query_list)\n",
        "print(\"For Step 5, none of my three personal preferences matched for the following queries: \",color_no_targets_match_query_list)"
      ],
      "execution_count": 0,
      "outputs": []
    },
    {
      "cell_type": "markdown",
      "metadata": {
        "id": "9Hb9JsNuR7fe",
        "colab_type": "text"
      },
      "source": [
        "### How much closer (as a percentage) did your personal preference grand intersection value now come to the maximum of 120? Discuss why it was not higher."
      ]
    },
    {
      "cell_type": "code",
      "metadata": {
        "id": "7bNe8nMX-YNm",
        "colab_type": "code",
        "colab": {}
      },
      "source": [
        "personal_diff = abs(120-grand_intersection_value5)/120 *100\n",
        "print(\"My personal preference grand intersection got \", personal_diff, \"% close to this upper bound\")"
      ],
      "execution_count": 0,
      "outputs": []
    }
  ]
}